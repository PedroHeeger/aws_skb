{
 "cells": [
  {
   "cell_type": "markdown",
   "metadata": {},
   "source": [
    "Copyright Amazon.com, Inc. or its affiliates. All Rights Reserved.\n",
    "SPDX-License-Identifier: Apache-2.0"
   ]
  },
  {
   "cell_type": "markdown",
   "metadata": {},
   "source": [
    "## Task 4: Load data into Neptune using the bulk load feature and perform basic insert and query operations using Gremlin\n",
    "\n",
    "In this task, you use the Amazon Neptune bulk loader to ingest data into a Neptune DB cluster. You then perform basic insert and query operations using Gremlin."
   ]
  },
  {
   "cell_type": "markdown",
   "metadata": {},
   "source": [
    "### Task 4.1: Prepare sample data for bulk loading\n",
    "\n",
    "This notebook uses the [MovieLens 100k dataset](https://grouplens.org/datasets/movielens/100k/) provided by [GroupLens Research](https://grouplens.org/datasets/movielens/). This dataset consists of movies, users, and ratings of those movies by users.\n",
    "\n",
    "The process of downloading the data from the MovieLens websites and formatting it was already completed as part of the lab provisioning process. The formatted data is available in the Amazon S3 bucket used for this lab. All you need to provide is an S3 bucket URI."
   ]
  },
  {
   "cell_type": "markdown",
   "metadata": {},
   "source": [
    "### Task 4.2: Use Neptune's bulk load API to import data\n",
    "\n",
    "In this task, you load the MovieLens 100k dataset into your Neptune cluster using the %load step.\n",
    "\n",
    "1. To load the sample data, run the %load command in following code cell:"
   ]
  },
  {
   "cell_type": "code",
   "execution_count": null,
   "metadata": {},
   "outputs": [],
   "source": [
    "%load"
   ]
  },
  {
   "cell_type": "markdown",
   "metadata": {},
   "source": [
    "2. When you run the code cell, you are prompted to make the following selections:\n",
    "\n",
    "- For **Source**, enter `s3://S3_BUCKET_NAME/movielens-100k/`\n",
    "\n",
    "**Caution:** Replace the *S3_BUCKET_NAME* placeholder value with the value of **S3BucketName** provided to the left of lab instructions.\n",
    "\n",
    "- For **Format**, use the dropdown menu and select **csv** if not already selected.\n",
    "- For **Region**, make sure the region matches with the value of **AwsRegionCode** provided to the left of lab instructions.\n",
    "- For **Fail on Error**, use the dropdown menu and select **TRUE** if not already selected.\n",
    "- For **Load ARN**, copy the value of **IAMRoleARN** provided to the left of lab instructions and paste it here.\n",
    "\n",
    "3. Use default values for the rest of the selection options and choose **Submit**.\n",
    "\n",
    "<i aria-hidden=\"true\" class=\"fas fa-clipboard-check\" style=\"color:#18ab4b\"></i> **Expected output:** The output should show that the data was successfully loaded into your Neptune cluster.\n",
    "\n",
    "```plain\n",
    "************************\n",
    "**** EXAMPLE OUTPUT ****\n",
    "************************\n",
    "\n",
    "Load ID: edb549a7-6084-46d8-a797-e1bfc05f1783\n",
    "\n",
    "Overall Status: LOAD_COMPLETED\n",
    "Total execution time: 0:01:44\n",
    "Done.\n",
    "```"
   ]
  },
  {
   "cell_type": "markdown",
   "metadata": {},
   "source": [
    "4. To verify if the data was loaded correctly and to see the count of nodes by label, run the following code cell:"
   ]
  },
  {
   "cell_type": "code",
   "execution_count": null,
   "metadata": {},
   "outputs": [],
   "source": [
    "%%gremlin\n",
    "g.V().groupCount().by(label).unfold().order().by(keys)"
   ]
  },
  {
   "cell_type": "markdown",
   "metadata": {},
   "source": [
    "<i aria-hidden=\"true\" class=\"fas fa-clipboard-check\" style=\"color:#18ab4b\"></i> **Expected output:** If the are nodes loaded correctly, you should see the following output:\n",
    "\n",
    "```plain\n",
    "************************\n",
    "**** EXAMPLE OUTPUT ****\n",
    "************************\n",
    "\n",
    "    19 genres\n",
    "    1682 movies\n",
    "    100000 rating\n",
    "    943 users\n",
    "```"
   ]
  },
  {
   "cell_type": "markdown",
   "metadata": {},
   "source": [
    "5. To check if the edges were loaded correctly, run the following code cell:"
   ]
  },
  {
   "cell_type": "code",
   "execution_count": null,
   "metadata": {},
   "outputs": [],
   "source": [
    "%%gremlin\n",
    "g.E().groupCount().by(label).unfold().order().by(keys)"
   ]
  },
  {
   "cell_type": "markdown",
   "metadata": {},
   "source": [
    "<i aria-hidden=\"true\" class=\"fas fa-clipboard-check\" style=\"color:#18ab4b\"></i> **Expected output:** If the edges are loaded correctly, you should see the following output:\n",
    "\n",
    "```plain\n",
    "************************\n",
    "**** EXAMPLE OUTPUT ****\n",
    "************************\n",
    "\n",
    "    100000 about\n",
    "    2893 included_in\n",
    "    100000 rated\n",
    "    100000 wrote\n",
    "```"
   ]
  },
  {
   "cell_type": "markdown",
   "metadata": {},
   "source": [
    "### Task 4.3: Write and run basic Gremlin queries\n",
    "\n",
    "In this task, you write and run basic gremlin queries to interact with the data."
   ]
  },
  {
   "cell_type": "markdown",
   "metadata": {},
   "source": [
    "6. To retrieve properties of the first 5 movie vertices from the graph, run the following code cell:"
   ]
  },
  {
   "cell_type": "code",
   "execution_count": null,
   "metadata": {},
   "outputs": [],
   "source": [
    "%%gremlin\n",
    "g.V()\n",
    " .hasLabel('movie')\n",
    " .limit(5)\n",
    " .valueMap()"
   ]
  },
  {
   "cell_type": "markdown",
   "metadata": {},
   "source": [
    "7. To find specific movies by their titles and display their titles and genres, run the following code cell:"
   ]
  },
  {
   "cell_type": "code",
   "execution_count": null,
   "metadata": {},
   "outputs": [],
   "source": [
    "%%gremlin\n",
    "\n",
    "g.V().has('movie', 'title', within('Apollo 13 (1995)', 'Forrest Gump (1994)', 'Sleepless in Seattle (1993)')).\n",
    "    valueMap('title', 'genre')"
   ]
  },
  {
   "cell_type": "markdown",
   "metadata": {},
   "source": [
    "### Task 4.4: Perform additional data inserts using Gremlin\n",
    "\n",
    "In this task, you perform additional data inserts using Gremlin."
   ]
  },
  {
   "cell_type": "markdown",
   "metadata": {},
   "source": [
    "8. To add a new movie vertex to the graph with title and genre properties, run the following code cell:"
   ]
  },
  {
   "cell_type": "code",
   "execution_count": null,
   "metadata": {},
   "outputs": [],
   "source": [
    "%%gremlin\n",
    "g.addV('movie')\n",
    " .property('title', 'Avengers: Infinity War (2018)')\n",
    " .property('genre', 'Action')\n",
    " .property('genre', 'Sci-Fi')"
   ]
  },
  {
   "cell_type": "markdown",
   "metadata": {},
   "source": [
    "9. To verify the recently added movie using its vertex ID, run the following code cell:\n",
    "\n",
    "**Caution:** Replace the *VERTEX_ID* placeholder value with the actual vertex id from the previous output before running the following code cell."
   ]
  },
  {
   "cell_type": "code",
   "execution_count": null,
   "metadata": {},
   "outputs": [],
   "source": [
    "%%gremlin\n",
    "g.V('VERTEX_ID')\n",
    "    .valueMap()"
   ]
  },
  {
   "cell_type": "markdown",
   "metadata": {},
   "source": [
    "10. To delete a specific movie vertex (Forrest Gump) from the graph, run the following code cell:"
   ]
  },
  {
   "cell_type": "code",
   "execution_count": null,
   "metadata": {},
   "outputs": [],
   "source": [
    "%%gremlin\n",
    "g.V()\n",
    " .has('title', 'Forrest Gump (1994)')\n",
    " .drop()"
   ]
  },
  {
   "cell_type": "markdown",
   "metadata": {},
   "source": [
    "11. To verify that the movie was deleted from the graph, run the following code cell:"
   ]
  },
  {
   "cell_type": "code",
   "execution_count": null,
   "metadata": {},
   "outputs": [],
   "source": [
    "%%gremlin\n",
    "g.V().has('movie', 'title', within('Apollo 13 (1995)', 'Forrest Gump (1994)', 'Sleepless in Seattle (1993)')).\n",
    "    valueMap('title', 'genre')"
   ]
  },
  {
   "cell_type": "markdown",
   "metadata": {},
   "source": [
    "12. To update the genre property of a specific movie (Sleepless in Seattle) in the graph, run the following code cell:"
   ]
  },
  {
   "cell_type": "code",
   "execution_count": null,
   "metadata": {},
   "outputs": [],
   "source": [
    "%%gremlin\n",
    "g.V()\n",
    " .has('title', 'Sleepless in Seattle (1993)')\n",
    " .property('genre', 'Drama')"
   ]
  },
  {
   "cell_type": "markdown",
   "metadata": {},
   "source": [
    "13. To verify only the updated genre property using the vertex ID, run the following code cell:\n",
    "\n",
    "**Caution:** Replace the *VERTEX_ID* placeholder value with the actual vertex id from the previous output before running the following code cell."
   ]
  },
  {
   "cell_type": "code",
   "execution_count": null,
   "metadata": {},
   "outputs": [],
   "source": [
    "%%gremlin\n",
    "g.V('VERTEX_ID')\n",
    "    .valueMap('genre')"
   ]
  },
  {
   "cell_type": "markdown",
   "metadata": {},
   "source": [
    "You can further interact with the data using different Gremlin queries. Refer to [Gremlin Query Language](https://tinkerpop.apache.org/gremlin.html) for additional information."
   ]
  },
  {
   "cell_type": "markdown",
   "metadata": {},
   "source": [
    "**Task complete:** You have successfully used the Amazon Neptune bulk loader to ingest data into a Neptune DB cluster. You then performed basic operations using Gremlin. Close this notebook, and return to the lab instructions to continue with Task 5."
   ]
  }
 ],
 "metadata": {
  "kernelspec": {
   "display_name": "Python 3",
   "language": "python",
   "name": "python3"
  },
  "language_info": {
   "codemirror_mode": {
    "name": "ipython",
    "version": 3
   },
   "file_extension": ".py",
   "mimetype": "text/x-python",
   "name": "python",
   "nbconvert_exporter": "python",
   "pygments_lexer": "ipython3",
   "version": "3.10.8"
  }
 },
 "nbformat": 4,
 "nbformat_minor": 4
}
