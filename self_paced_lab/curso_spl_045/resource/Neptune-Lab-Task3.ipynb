{
 "cells": [
  {
   "cell_type": "markdown",
   "metadata": {},
   "source": [
    "Copyright Amazon.com, Inc. or its affiliates. All Rights Reserved.\n",
    "SPDX-License-Identifier: Apache-2.0"
   ]
  },
  {
   "cell_type": "markdown",
   "metadata": {},
   "source": [
    "## Task 3: Establish connection to the Neptune database instance and prepare the database\n",
    "\n",
    "In this task, you establish connection to the Neptune database instance and prepare the database by deleting existing data from the graph."
   ]
  },
  {
   "cell_type": "markdown",
   "metadata": {},
   "source": [
    "### Task 3.1: Establish connection to the Neptune database instance\n",
    "\n",
    "1. Replace the *NEPTUNE_CLUSTER_ENDPOINT* placeholder value with the value of **NeptuneClusterEndpoint** provided to the left of lab instructions and run the following code cell:"
   ]
  },
  {
   "cell_type": "code",
   "execution_count": null,
   "metadata": {},
   "outputs": [],
   "source": [
    "import boto3\n",
    "from gremlin_python.driver.driver_remote_connection import DriverRemoteConnection\n",
    "from gremlin_python.process.graph_traversal import __\n",
    "\n",
    "NEPTUNE_ENDPOINT = \"NEPTUNE_CLUSTER_ENDPOINT\"\n",
    "NEPTUNE_PORT = 8182\n",
    "# Connect to the Neptune cluster\n",
    "neptune_connection = DriverRemoteConnection(f\"wss://{NEPTUNE_ENDPOINT}:{NEPTUNE_PORT}/gremlin\", \"g\")\n",
    "\n",
    "# Verify the connection\n",
    "print(f\"Connected to Neptune cluster at {NEPTUNE_ENDPOINT}:{NEPTUNE_PORT}\")"
   ]
  },
  {
   "cell_type": "markdown",
   "metadata": {},
   "source": [
    "<i aria-hidden=\"true\" class=\"fas fa-clipboard-check\" style=\"color:#18ab4b\"></i> **Expected output:** The output should show that you have successfully connected to the Neptune cluster.\n",
    "\n",
    "```plain\n",
    "************************\n",
    "**** EXAMPLE OUTPUT ****\n",
    "************************\n",
    "\n",
    "Connected to Neptune cluster at neptune-db.cluster-c8famms84sph.us-west-2.neptune.amazonaws.com:8182\n",
    "```"
   ]
  },
  {
   "cell_type": "markdown",
   "metadata": {},
   "source": [
    "### Task 3.2: Prepare the database by deleting existing data from the graph\n",
    "\n",
    "2. This task is only needed if you need to reset and restart the lab from the beginning."
   ]
  },
  {
   "cell_type": "code",
   "execution_count": null,
   "metadata": {},
   "outputs": [],
   "source": [
    "%%gremlin \n",
    "g.V().drop()"
   ]
  },
  {
   "cell_type": "markdown",
   "metadata": {},
   "source": [
    "**Task complete:** You have successfully established a connection from the Jupyter notebook to the Neptune database instance and prepared the database by deleting existing data from the graph. Close this notebook, and return to the lab instructions to continue with Task 4."
   ]
  }
 ],
 "metadata": {
  "kernelspec": {
   "display_name": "Python 3",
   "language": "python",
   "name": "python3"
  },
  "language_info": {
   "codemirror_mode": {
    "name": "ipython",
    "version": 3
   },
   "file_extension": ".py",
   "mimetype": "text/x-python",
   "name": "python",
   "nbconvert_exporter": "python",
   "pygments_lexer": "ipython3",
   "version": "3.10.8"
  }
 },
 "nbformat": 4,
 "nbformat_minor": 4
}
